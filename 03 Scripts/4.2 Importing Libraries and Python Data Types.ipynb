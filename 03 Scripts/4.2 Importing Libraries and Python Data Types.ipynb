{
 "cells": [
  {
   "cell_type": "markdown",
   "id": "489c7abc",
   "metadata": {},
   "source": [
    "# 01. Importing libraries"
   ]
  },
  {
   "cell_type": "code",
   "execution_count": 1,
   "id": "0923ed43",
   "metadata": {},
   "outputs": [],
   "source": [
    "# Import libraries\n",
    "import pandas as pd\n",
    "import numpy as np\n",
    "import os"
   ]
  },
  {
   "cell_type": "markdown",
   "id": "04ef655c",
   "metadata": {},
   "source": [
    "# 02. Data types"
   ]
  },
  {
   "cell_type": "markdown",
   "id": "5e1b9d0e",
   "metadata": {},
   "source": [
    "### Basic operations conducted in math class using Python code—for instance, adding (+), subtracting (-), multiplying (*), and dividing (/):"
   ]
  },
  {
   "cell_type": "code",
   "execution_count": 1,
   "id": "ea1c7112",
   "metadata": {},
   "outputs": [],
   "source": [
    "# variable definition\n",
    "x = 75"
   ]
  },
  {
   "cell_type": "code",
   "execution_count": 3,
   "id": "c8f68922",
   "metadata": {},
   "outputs": [],
   "source": [
    "# variable definition\n",
    "y = 25"
   ]
  },
  {
   "cell_type": "code",
   "execution_count": 16,
   "id": "a9eaa8bb",
   "metadata": {
    "scrolled": true
   },
   "outputs": [
    {
     "data": {
      "text/plain": [
       "100"
      ]
     },
     "execution_count": 16,
     "metadata": {},
     "output_type": "execute_result"
    }
   ],
   "source": [
    "# operation\n",
    "x + y"
   ]
  },
  {
   "cell_type": "code",
   "execution_count": 25,
   "id": "c6a9147a",
   "metadata": {},
   "outputs": [],
   "source": [
    "# variable definition\n",
    "z = 150"
   ]
  },
  {
   "cell_type": "code",
   "execution_count": 5,
   "id": "d15c92da",
   "metadata": {},
   "outputs": [
    {
     "data": {
      "text/plain": [
       "100"
      ]
     },
     "execution_count": 5,
     "metadata": {},
     "output_type": "execute_result"
    }
   ],
   "source": [
    "# operation\n",
    "z - (x - y)"
   ]
  },
  {
   "cell_type": "code",
   "execution_count": 26,
   "id": "b35208e6",
   "metadata": {},
   "outputs": [
    {
     "data": {
      "text/plain": [
       "100"
      ]
     },
     "execution_count": 26,
     "metadata": {},
     "output_type": "execute_result"
    }
   ],
   "source": [
    "# operation\n",
    "z - (y * 2)"
   ]
  },
  {
   "cell_type": "code",
   "execution_count": 7,
   "id": "a339ca9a",
   "metadata": {},
   "outputs": [],
   "source": [
    "# variable definition\n",
    "a = 2.50"
   ]
  },
  {
   "cell_type": "code",
   "execution_count": 27,
   "id": "7dd24b3f",
   "metadata": {},
   "outputs": [],
   "source": [
    "# variable definition\n",
    "b = 3.50"
   ]
  },
  {
   "cell_type": "code",
   "execution_count": 28,
   "id": "315cf210",
   "metadata": {},
   "outputs": [
    {
     "data": {
      "text/plain": [
       "0.7142857142857143"
      ]
     },
     "execution_count": 28,
     "metadata": {},
     "output_type": "execute_result"
    }
   ],
   "source": [
    "# operation\n",
    "a / b"
   ]
  },
  {
   "cell_type": "markdown",
   "id": "055045bc",
   "metadata": {},
   "source": [
    "### Operations with strings:"
   ]
  },
  {
   "cell_type": "code",
   "execution_count": 10,
   "id": "bfe63ea9",
   "metadata": {},
   "outputs": [],
   "source": [
    "# variable definition\n",
    "c = \"note\""
   ]
  },
  {
   "cell_type": "code",
   "execution_count": 29,
   "id": "96da9670",
   "metadata": {},
   "outputs": [],
   "source": [
    "# variable definition\n",
    "d = \"book\""
   ]
  },
  {
   "cell_type": "code",
   "execution_count": 30,
   "id": "59839408",
   "metadata": {},
   "outputs": [
    {
     "data": {
      "text/plain": [
       "'notebook'"
      ]
     },
     "execution_count": 30,
     "metadata": {},
     "output_type": "execute_result"
    }
   ],
   "source": [
    "# operation\n",
    "c + d"
   ]
  },
  {
   "cell_type": "code",
   "execution_count": 31,
   "id": "b29f5e7a",
   "metadata": {},
   "outputs": [],
   "source": [
    "# variable definition\n",
    "d = \"Good \""
   ]
  },
  {
   "cell_type": "code",
   "execution_count": 15,
   "id": "42fd7698",
   "metadata": {},
   "outputs": [],
   "source": [
    "# variable definition\n",
    "e = \"Morning, \""
   ]
  },
  {
   "cell_type": "code",
   "execution_count": 32,
   "id": "f3ad7eec",
   "metadata": {},
   "outputs": [],
   "source": [
    "# variable definition\n",
    "f = \"Paul.\""
   ]
  },
  {
   "cell_type": "code",
   "execution_count": 33,
   "id": "6f8bbc9c",
   "metadata": {},
   "outputs": [
    {
     "data": {
      "text/plain": [
       "'Good Morning, Paul.'"
      ]
     },
     "execution_count": 33,
     "metadata": {},
     "output_type": "execute_result"
    }
   ],
   "source": [
    "# operation\n",
    "d + e + f"
   ]
  },
  {
   "cell_type": "code",
   "execution_count": 36,
   "id": "7e7ad0a8",
   "metadata": {},
   "outputs": [],
   "source": [
    "# variable definition\n",
    "g = \"Thank \""
   ]
  },
  {
   "cell_type": "code",
   "execution_count": 37,
   "id": "bf66092f",
   "metadata": {},
   "outputs": [],
   "source": [
    "# variable definition\n",
    "h = \"you, \""
   ]
  },
  {
   "cell_type": "code",
   "execution_count": 38,
   "id": "99711ff8",
   "metadata": {},
   "outputs": [
    {
     "data": {
      "text/plain": [
       "'Thank you, Paul.'"
      ]
     },
     "execution_count": 38,
     "metadata": {},
     "output_type": "execute_result"
    }
   ],
   "source": [
    "# operation\n",
    "g + h + f"
   ]
  },
  {
   "cell_type": "markdown",
   "id": "d779bd62",
   "metadata": {},
   "source": [
    "### Bonus Task:"
   ]
  },
  {
   "cell_type": "code",
   "execution_count": 23,
   "id": "9c4b619f",
   "metadata": {},
   "outputs": [],
   "source": [
    "# variable definition\n",
    "h = 'python '"
   ]
  },
  {
   "cell_type": "code",
   "execution_count": 24,
   "id": "281868ab",
   "metadata": {
    "scrolled": true
   },
   "outputs": [
    {
     "data": {
      "text/plain": [
       "'python python python python python python python python python python python python python python python python python python python python python python python python python python python python python python python python python python python python python python python python python python python python python python python python python python python python python python python python python python python python python python python python python python python python python python python python python python python python python python python python python python python python python python python python python python python python python python python python python python python python '"
      ]
     },
     "execution_count": 24,
     "metadata": {},
     "output_type": "execute_result"
    }
   ],
   "source": [
    "# operation\n",
    "h * 100"
   ]
  }
 ],
 "metadata": {
  "kernelspec": {
   "display_name": "Python 3 (ipykernel)",
   "language": "python",
   "name": "python3"
  },
  "language_info": {
   "codemirror_mode": {
    "name": "ipython",
    "version": 3
   },
   "file_extension": ".py",
   "mimetype": "text/x-python",
   "name": "python",
   "nbconvert_exporter": "python",
   "pygments_lexer": "ipython3",
   "version": "3.10.9"
  }
 },
 "nbformat": 4,
 "nbformat_minor": 5
}
